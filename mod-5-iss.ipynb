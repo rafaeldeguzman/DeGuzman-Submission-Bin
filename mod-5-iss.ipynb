{
 "cells": [
  {
   "cell_type": "code",
   "execution_count": 1,
   "id": "45e664aa-8d50-4434-ab31-1aef3d900a0f",
   "metadata": {},
   "outputs": [],
   "source": [
    "import matplotlib.pyplot as plt\n",
    "import requests as req\n",
    "import time\n",
    "import pandas as pd"
   ]
  },
  {
   "cell_type": "code",
   "execution_count": 2,
   "id": "1ab6a6ca-8cc4-4959-8f5f-7f458c76eeb0",
   "metadata": {},
   "outputs": [],
   "source": [
    "store = []\n",
    "for i in range(100):\n",
    "    resp = req.get(\"http://api.open-notify.org/iss-now.json\")\n",
    "    respdata= resp.json()\n",
    "    store.append((respdata[\"timestamp\"], respdata[\"iss_position\"][\"latitude\"], respdata[\"iss_position\"][\"longitude\"]))\n",
    "    time.sleep(10)"
   ]
  },
  {
   "cell_type": "code",
   "execution_count": 3,
   "id": "307a874f-78b3-4a93-888f-97f3b5d3fea3",
   "metadata": {},
   "outputs": [
    {
     "name": "stdout",
     "output_type": "stream",
     "text": [
      "[(1658482757, '49.1708', '143.6393'), (1658482768, '49.3998', '144.6801'), (1658482779, '49.6091', '145.6847'), (1658482790, '49.8000', '146.6520'), (1658482800, '49.9820', '147.6273'), (1658482812, '50.1711', '148.7045'), (1658482824, '50.3566', '149.8374'), (1658482835, '50.5160', '150.8837'), (1658482847, '50.6716', '151.9849'), (1658482858, '50.8099', '153.0453'), (1658482869, '50.9376', '154.1126'), (1658482880, '51.0546', '155.1852'), (1658482891, '51.1655', '156.3124'), (1658482902, '51.2605', '157.3955'), (1658482913, '51.3445', '158.4831'), (1658482924, '51.4176', '159.5744'), (1658482935, '51.4770', '160.6206'), (1658482946, '51.5284', '161.7181'), (1658482957, '51.5686', '162.8178'), (1658482967, '51.5966', '163.8690'), (1658482978, '51.6144', '164.9214'), (1658482989, '51.6220', '166.0248'), (1658483000, '51.6184', '167.1281'), (1658483011, '51.6035', '168.2310'), (1658483022, '51.5774', '169.3329'), (1658483032, '51.5421', '170.3832'), (1658483044, '51.4917', '171.5317'), (1658483056, '51.4292', '172.6772'), (1658483066, '51.3616', '173.7196'), (1658483077, '51.2839', '174.7585'), (1658483088, '51.1918', '175.8426'), (1658483099, '51.0840', '176.9709'), (1658483110, '50.9698', '178.0450'), (1658483121, '50.8509', '179.0647'), (1658483132, '50.7096', '-179.8251'), (1658483143, '50.5638', '-178.7698'), (1658483155, '50.4003', '-177.6742'), (1658483166, '50.2335', '-176.6340'), (1658483177, '50.0566', '-175.6011'), (1658483188, '49.8698', '-174.5769'), (1658483199, '49.6640', '-173.5149'), (1658483210, '49.4573', '-172.5083'), (1658483221, '49.2411', '-171.5105'), (1658483232, '49.0261', '-170.5667'), (1658483243, '48.7810', '-169.5433'), (1658483255, '48.5260', '-168.5303'), (1658483266, '48.2848', '-167.6151'), (1658483277, '48.0237', '-166.6662'), (1658483288, '47.7413', '-165.6841'), (1658483299, '47.4628', '-164.7560'), (1658483310, '47.1761', '-163.8381'), (1658483322, '46.8679', '-162.8900'), (1658483333, '46.5651', '-161.9940'), (1658483344, '46.2401', '-161.0677'), (1658483355, '45.9217', '-160.1932'), (1658483366, '45.5962', '-159.3296'), (1658483377, '45.2788', '-158.5152'), (1658483387, '44.9550', '-157.7105'), (1658483399, '44.5933', '-156.8403'), (1658483410, '44.2400', '-156.0174'), (1658483421, '43.8641', '-155.1692'), (1658483432, '43.4979', '-154.3682'), (1658483444, '43.1087', '-153.5426'), (1658483455, '42.7304', '-152.7633'), (1658483467, '42.3285', '-151.9593'), (1658483478, '41.9383', '-151.2004'), (1658483489, '41.5245', '-150.4178'), (1658483500, '41.1232', '-149.6793'), (1658483511, '40.7351', '-148.9832'), (1658483522, '40.3048', '-148.2307'), (1658483533, '39.8880', '-147.5205'), (1658483544, '39.4857', '-146.8512'), (1658483555, '39.0401', '-146.1277'), (1658483566, '38.6289', '-145.4755'), (1658483576, '38.2136', '-144.8314'), (1658483587, '37.7934', '-144.1938'), (1658483598, '37.3500', '-143.5355'), (1658483608, '36.9230', '-142.9149'), (1658483620, '36.4510', '-142.2438'), (1658483631, '35.9957', '-141.6102'), (1658483642, '35.5155', '-140.9561'), (1658483653, '35.0735', '-140.3661'), (1658483664, '34.5859', '-139.7280'), (1658483675, '34.1373', '-139.1525'), (1658483686, '33.6640', '-138.5565'), (1658483697, '33.1876', '-137.9677'), (1658483709, '32.6858', '-137.3592'), (1658483719, '32.2247', '-136.8101'), (1658483730, '31.7389', '-136.2416'), (1658483741, '31.2502', '-135.6794'), (1658483752, '30.7584', '-135.1233'), (1658483763, '30.2866', '-134.5985'), (1658483774, '29.7671', '-134.0300'), (1658483785, '29.2675', '-133.4921'), (1658483797, '28.7425', '-132.9359'), (1658483808, '28.2379', '-132.4096'), (1658483819, '27.7310', '-131.8887'), (1658483830, '27.2212', '-131.3726'), (1658483841, '26.7098', '-130.8622'), (1658483851, '26.2195', '-130.3795')]\n"
     ]
    }
   ],
   "source": [
    "print (store)"
   ]
  },
  {
   "cell_type": "code",
   "execution_count": 4,
   "id": "418a4998-948d-4260-ad4e-877b6b6f8aac",
   "metadata": {},
   "outputs": [
    {
     "name": "stdout",
     "output_type": "stream",
     "text": [
      "<class 'pandas.core.frame.DataFrame'>\n",
      "RangeIndex: 100 entries, 0 to 99\n",
      "Data columns (total 3 columns):\n",
      " #   Column     Non-Null Count  Dtype \n",
      "---  ------     --------------  ----- \n",
      " 0   Timestamp  100 non-null    int64 \n",
      " 1   Latitude   100 non-null    object\n",
      " 2   Longitude  100 non-null    object\n",
      "dtypes: int64(1), object(2)\n",
      "memory usage: 2.5+ KB\n"
     ]
    }
   ],
   "source": [
    "df = pd.DataFrame(store, columns = [\"Timestamp\",\"Latitude\",\"Longitude\"])\n",
    "df.info()"
   ]
  },
  {
   "cell_type": "code",
   "execution_count": 5,
   "id": "5f34766a-52bd-4d87-aec7-199eca798d10",
   "metadata": {},
   "outputs": [],
   "source": [
    "df[['Latitude','Longitude']] = df[['Latitude','Longitude']].apply(pd.to_numeric)"
   ]
  },
  {
   "cell_type": "code",
   "execution_count": 6,
   "id": "8929f361-920f-4441-b7fb-86d4cfddeeed",
   "metadata": {},
   "outputs": [
    {
     "name": "stdout",
     "output_type": "stream",
     "text": [
      "<class 'pandas.core.frame.DataFrame'>\n",
      "RangeIndex: 100 entries, 0 to 99\n",
      "Data columns (total 3 columns):\n",
      " #   Column     Non-Null Count  Dtype  \n",
      "---  ------     --------------  -----  \n",
      " 0   Timestamp  100 non-null    int64  \n",
      " 1   Latitude   100 non-null    float64\n",
      " 2   Longitude  100 non-null    float64\n",
      "dtypes: float64(2), int64(1)\n",
      "memory usage: 2.5 KB\n"
     ]
    }
   ],
   "source": [
    "df.info()"
   ]
  },
  {
   "cell_type": "code",
   "execution_count": 9,
   "id": "7d9a707e-2d57-4a6f-a28f-591b5dd964f4",
   "metadata": {},
   "outputs": [],
   "source": [
    "x = df['Latitude']\n",
    "y = df['Longitude']\n",
    "labels = df['Timestamp']"
   ]
  },
  {
   "cell_type": "code",
   "execution_count": 10,
   "id": "3f82f2f3-1b68-421f-88ed-84fa48188761",
   "metadata": {},
   "outputs": [
    {
     "data": {
      "image/png": "[encoded data removed]",
      "text/plain": [
       "<Figure size 432x288 with 1 Axes>"
      ]
     },
     "metadata": {
      "needs_background": "light"
     },
     "output_type": "display_data"
    }
   ],
   "source": [
    "plt.scatter(x,y)\n",
    "plt.plot(x,y)\n",
    "plt.title(\"International Space Station Tracker\")\n",
    "plt.xlabel(\"Latitude\")\n",
    "plt.ylabel(\"Longitude\")\n",
    "\n",
    "for i, txt in labels.items():\n",
    "    plt.annotate(txt, xy=(x[i],y[i]))\n",
    "   \n",
    "\n",
    "plt.show()"
   ]
  },
  {
   "cell_type": "code",
   "execution_count": null,
   "id": "57b3a044-f0a9-4545-95d3-25cb50c375fe",
   "metadata": {},
   "outputs": [],
   "source": []
  }
 ],
 "metadata": {
  "kernelspec": {
   "display_name": "Python 3 (ipykernel)",
   "language": "python",
   "name": "python3"
  },
  "language_info": {
   "codemirror_mode": {
    "name": "ipython",
    "version": 3
   },
   "file_extension": ".py",
   "mimetype": "text/x-python",
   "name": "python",
   "nbconvert_exporter": "python",
   "pygments_lexer": "ipython3",
   "version": "3.9.12"
  }
 },
 "nbformat": 4,
 "nbformat_minor": 5
}
